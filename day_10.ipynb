{
  "nbformat": 4,
  "nbformat_minor": 0,
  "metadata": {
    "colab": {
      "provenance": [],
      "authorship_tag": "ABX9TyMlcmfnLeckfL4KUZUct96I",
      "include_colab_link": true
    },
    "kernelspec": {
      "name": "python3",
      "display_name": "Python 3"
    },
    "language_info": {
      "name": "python"
    }
  },
  "cells": [
    {
      "cell_type": "markdown",
      "metadata": {
        "id": "view-in-github",
        "colab_type": "text"
      },
      "source": [
        "<a href=\"https://colab.research.google.com/github/Hannagh/aoc_2022/blob/main/day_10.ipynb\" target=\"_parent\"><img src=\"https://colab.research.google.com/assets/colab-badge.svg\" alt=\"Open In Colab\"/></a>"
      ]
    },
    {
      "cell_type": "code",
      "execution_count": null,
      "metadata": {
        "id": "uXEmSPX3iD9G",
        "colab": {
          "base_uri": "https://localhost:8080/"
        },
        "outputId": "7301b47f-640f-45b4-dcf3-6283848fa085"
      },
      "outputs": [
        {
          "output_type": "stream",
          "name": "stdout",
          "text": [
            "####.###...##..###..#....####.####.#..#.\n",
            "...#.#..#.#..#.#..#.#....#.......#.#..#.\n",
            "..#..#..#.#..#.#..#.#....###....#..#..#.\n",
            ".#...###..####.###..#....#.....#...#..#.\n",
            "#....#.#..#..#.#.#..#....#....#....#..#.\n",
            "####.#..#.#..#.#..#.####.#....####..##..\n"
          ]
        }
      ],
      "source": [
        "import re\n",
        "\n",
        "myList = [0] * 1\n",
        "index = 0\n",
        "myList[0] = 1\n",
        "next_number = myList[0]\n",
        "with open('day_10_input.txt', mode = 'r') as myFile:\n",
        "  lines = myFile.readlines()\n",
        "  for line in lines:\n",
        "    line = line.strip('\\n')\n",
        "    if line == \"noop\":\n",
        "      myList.append(next_number) # One cycle, nothing happens\n",
        "    else:\n",
        "      myList.append(next_number) # Beginning of first cycle is the same number\n",
        "      myList.append(next_number) # Beginning of second cycle is the same number\n",
        "      next_number += int(re.findall('[-]?\\d+', line)[0]) # Beginning of the next cycle is going to be the updated number\n",
        "\n",
        "myList.pop(0)\n",
        "crt_row = ''\n",
        "for index, x in enumerate(myList):\n",
        "  if x-1<= index % 40 <= x+1:\n",
        "    crt_row += \"#\"\n",
        "  else:\n",
        "    crt_row += \".\"\n",
        "  if len(crt_row)== 40:\n",
        "    print(crt_row)\n",
        "    crt_row = ''\n",
        "\n"
      ]
    }
  ]
}