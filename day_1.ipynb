{
  "nbformat": 4,
  "nbformat_minor": 0,
  "metadata": {
    "colab": {
      "provenance": [],
      "authorship_tag": "ABX9TyMb+8yvM2XGMhykYsMum1ZQ",
      "include_colab_link": true
    },
    "kernelspec": {
      "name": "python3",
      "display_name": "Python 3"
    },
    "language_info": {
      "name": "python"
    }
  },
  "cells": [
    {
      "cell_type": "markdown",
      "metadata": {
        "id": "view-in-github",
        "colab_type": "text"
      },
      "source": [
        "<a href=\"https://colab.research.google.com/github/Hannagh/aoc_2022/blob/main/day_1.ipynb\" target=\"_parent\"><img src=\"https://colab.research.google.com/assets/colab-badge.svg\" alt=\"Open In Colab\"/></a>"
      ]
    },
    {
      "cell_type": "code",
      "execution_count": null,
      "metadata": {
        "colab": {
          "base_uri": "https://localhost:8080/"
        },
        "id": "JO-UhyvKswaY",
        "outputId": "9a782c30-b98b-439d-e171-fd16c9d0b8b9"
      },
      "outputs": [
        {
          "output_type": "stream",
          "name": "stdout",
          "text": [
            "70296\n",
            "205381\n"
          ]
        }
      ],
      "source": [
        "# Output: Number of Calories are being carried by the Elf carrying the most Calories\n",
        "\n",
        "list_of_elves = []\n",
        "alist = []\n",
        "i = 1\n",
        "\n",
        "files = open('input_day_1.txt', 'r')\n",
        "lines = files.readlines()\n",
        "\n",
        "for line in lines: # Read in line by line\n",
        "  if line == '\\n':\n",
        "    asum = sum(alist) # Add up all of the calories for one elf\n",
        "    list_of_elves.append(asum)\n",
        "    alist = [] # Create a new empty list\n",
        "    i = i + 1 # Create a new elf\n",
        "    continue\n",
        "  test = line.strip() # Remove newline character\n",
        "  test2 = int(test)\n",
        "  alist.append(test2)\n",
        "\n",
        "print(max(list_of_elves))\n",
        "\n",
        "list_of_elves.sort(reverse=True)\n",
        "\n",
        "print(sum(list_of_elves[0:3]))"
      ]
    }
  ]
}