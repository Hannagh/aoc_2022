{
  "nbformat": 4,
  "nbformat_minor": 0,
  "metadata": {
    "colab": {
      "provenance": [],
      "authorship_tag": "ABX9TyM8D6S+TJ96/2HHtoVo2A23",
      "include_colab_link": true
    },
    "kernelspec": {
      "name": "python3",
      "display_name": "Python 3"
    },
    "language_info": {
      "name": "python"
    }
  },
  "cells": [
    {
      "cell_type": "markdown",
      "metadata": {
        "id": "view-in-github",
        "colab_type": "text"
      },
      "source": [
        "<a href=\"https://colab.research.google.com/github/Hannagh/aoc_2022/blob/main/day_4.ipynb\" target=\"_parent\"><img src=\"https://colab.research.google.com/assets/colab-badge.svg\" alt=\"Open In Colab\"/></a>"
      ]
    },
    {
      "cell_type": "code",
      "execution_count": null,
      "metadata": {
        "id": "RvTvJU-fHa5c",
        "colab": {
          "base_uri": "https://localhost:8080/"
        },
        "outputId": "7b5a3997-5090-462f-cfb7-b10fe93f05c5"
      },
      "outputs": [
        {
          "output_type": "stream",
          "name": "stdout",
          "text": [
            "605\n",
            "914\n"
          ]
        }
      ],
      "source": [
        "# Read in lines, separate by comma\n",
        "counter = 0\n",
        "counter2 = 0\n",
        "with open('day_4_input.txt', mode = 'r', newline = '\\n') as my_file:\n",
        "   for line in my_file:\n",
        "      two_lines = line.strip().split(',')\n",
        "      first = two_lines[0].split('-')\n",
        "      second = two_lines[1].split('-')\n",
        "      first = [int(i) for i in first]\n",
        "      second = [int(i) for i in second]\n",
        "      if second[1]-second[0] > first[1]-first[0]: # If the second list will be longer than the first\n",
        "         smaller = list(range(first[0],first[1]+1))\n",
        "         larger = list(range(second[0],second[1]+1))\n",
        "      else:\n",
        "         smaller = list(range(second[0],second[1]+1))\n",
        "         larger = list(range(first[0],first[1]+1))\n",
        "      if set(smaller).issubset(larger) == True:\n",
        "         counter += 1\n",
        "      if any(item in smaller for item in larger):\n",
        "        counter2 +=1 \n",
        "print(counter)\n",
        "print(counter2)\n",
        "\n"
      ]
    }
  ]
}