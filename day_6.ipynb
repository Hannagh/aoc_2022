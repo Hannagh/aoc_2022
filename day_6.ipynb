{
  "nbformat": 4,
  "nbformat_minor": 0,
  "metadata": {
    "colab": {
      "provenance": [],
      "authorship_tag": "ABX9TyOt75+SCTnYK7Yc4FuBfRKE",
      "include_colab_link": true
    },
    "kernelspec": {
      "name": "python3",
      "display_name": "Python 3"
    },
    "language_info": {
      "name": "python"
    }
  },
  "cells": [
    {
      "cell_type": "markdown",
      "metadata": {
        "id": "view-in-github",
        "colab_type": "text"
      },
      "source": [
        "<a href=\"https://colab.research.google.com/github/Hannagh/aoc_2022/blob/main/day_6.ipynb\" target=\"_parent\"><img src=\"https://colab.research.google.com/assets/colab-badge.svg\" alt=\"Open In Colab\"/></a>"
      ]
    },
    {
      "cell_type": "code",
      "execution_count": null,
      "metadata": {
        "colab": {
          "base_uri": "https://localhost:8080/"
        },
        "id": "y6w9L8Sp4L3n",
        "outputId": "3c4ba737-bf09-430a-d004-ad308818fd49"
      },
      "outputs": [
        {
          "output_type": "stream",
          "name": "stdout",
          "text": [
            "3534\n"
          ]
        }
      ],
      "source": [
        "start = 0\n",
        "end = 14\n",
        "with open('day_6_input.txt', mode='r') as my_file:\n",
        "  for line in my_file:\n",
        "    test_line = line[start:end]\n",
        "    while len(test_line) != len(list(set(test_line))):\n",
        "      start += 1\n",
        "      end += 1\n",
        "      test_line = line[start:end] # Get index of last 4-digit\n",
        "    print(end)   \n"
      ]
    }
  ]
}