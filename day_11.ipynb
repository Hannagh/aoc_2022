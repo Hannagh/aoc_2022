{
  "nbformat": 4,
  "nbformat_minor": 0,
  "metadata": {
    "colab": {
      "provenance": [],
      "authorship_tag": "ABX9TyNLd+FEq1hcjgaYtXTkFmv+",
      "include_colab_link": true
    },
    "kernelspec": {
      "name": "python3",
      "display_name": "Python 3"
    },
    "language_info": {
      "name": "python"
    }
  },
  "cells": [
    {
      "cell_type": "markdown",
      "metadata": {
        "id": "view-in-github",
        "colab_type": "text"
      },
      "source": [
        "<a href=\"https://colab.research.google.com/github/Hannagh/aoc_2022/blob/main/day_11.ipynb\" target=\"_parent\"><img src=\"https://colab.research.google.com/assets/colab-badge.svg\" alt=\"Open In Colab\"/></a>"
      ]
    },
    {
      "cell_type": "code",
      "execution_count": null,
      "metadata": {
        "colab": {
          "base_uri": "https://localhost:8080/"
        },
        "id": "CZC3vmmCXZtk",
        "outputId": "9c6f96f7-a7bf-4e01-dcb5-395d4d23e5dc"
      },
      "outputs": [
        {
          "output_type": "stream",
          "name": "stdout",
          "text": [
            "106346\n",
            "98133\n",
            "49031\n",
            "16402\n",
            "106342\n",
            "65512\n",
            "98135\n",
            "81799\n"
          ]
        }
      ],
      "source": [
        "import re\n",
        "from math import trunc\n",
        "\n",
        "dict_of_monkeys = {}\n",
        "with open('day_11_input.txt', mode = 'r') as myFile:\n",
        "  lines = myFile.readlines()\n",
        "  for i in range(len(lines)):\n",
        "    lines[i] = lines[i].strip('\\n')    \n",
        "    if \"Monkey \" in lines[i]:\n",
        "      monkey_num = int(re.findall('[-]?\\d+', lines[i])[0])\n",
        "      dict_of_monkeys[monkey_num] = {}\n",
        "      dict_of_monkeys[monkey_num]['items'] = [int(x) for x in re.findall('[-]?\\d+', lines[i+1])]\n",
        "      dict_of_monkeys[monkey_num]['oper'] = re.findall('(?<=Operation: new = ).*', lines[i+2])[0]\n",
        "      dict_of_monkeys[monkey_num]['test'] = int(re.findall('[-]?\\d+', lines[i+3])[0])\n",
        "      dict_of_monkeys[monkey_num]['if_true'] = int(re.findall('[-]?\\d+', lines[i+4])[0])\n",
        "      dict_of_monkeys[monkey_num]['if_false'] = int(re.findall('[-]?\\d+', lines[i+5])[0])\n",
        "      dict_of_monkeys[monkey_num]['count_of_inspections'] = 0\n",
        "\n",
        "num = 1\n",
        "for key in dict_of_monkeys:\n",
        "  num *= dict_of_monkeys[key]['test'] \n",
        "\n",
        "for i in range(10000):      \n",
        "  for key in dict_of_monkeys:\n",
        "    for item in dict_of_monkeys[key]['items']:\n",
        "      dict_of_monkeys[key]['count_of_inspections'] += 1\n",
        "      old = item\n",
        "      new = trunc(eval(dict_of_monkeys[key]['oper']))\n",
        "      new = new % num\n",
        "      if new % dict_of_monkeys[key]['test'] == 0:    \n",
        "        dict_of_monkeys[dict_of_monkeys[key]['if_true']]['items'].append(new)\n",
        "      else:  \n",
        "        dict_of_monkeys[dict_of_monkeys[key]['if_false']]['items'].append(new)\n",
        "    dict_of_monkeys[key]['items'] = []  \n",
        "\n",
        "for key in dict_of_monkeys:\n",
        "  print(dict_of_monkeys[key]['count_of_inspections'])"
      ]
    },
    {
      "cell_type": "code",
      "source": [],
      "metadata": {
        "id": "IAh56RSfXhFy"
      },
      "execution_count": null,
      "outputs": []
    }
  ]
}