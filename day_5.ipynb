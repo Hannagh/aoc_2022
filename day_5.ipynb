{
  "nbformat": 4,
  "nbformat_minor": 0,
  "metadata": {
    "colab": {
      "provenance": [],
      "authorship_tag": "ABX9TyOT1qIZw6U4PO6IdoN4HSHT",
      "include_colab_link": true
    },
    "kernelspec": {
      "name": "python3",
      "display_name": "Python 3"
    },
    "language_info": {
      "name": "python"
    }
  },
  "cells": [
    {
      "cell_type": "markdown",
      "metadata": {
        "id": "view-in-github",
        "colab_type": "text"
      },
      "source": [
        "<a href=\"https://colab.research.google.com/github/Hannagh/aoc_2022/blob/main/day_5.ipynb\" target=\"_parent\"><img src=\"https://colab.research.google.com/assets/colab-badge.svg\" alt=\"Open In Colab\"/></a>"
      ]
    },
    {
      "cell_type": "code",
      "execution_count": null,
      "metadata": {
        "colab": {
          "base_uri": "https://localhost:8080/"
        },
        "id": "wtRAs2qXOBwP",
        "outputId": "69a26091-c5ce-479c-ae5c-9cfe7497d07d"
      },
      "outputs": [
        {
          "output_type": "stream",
          "name": "stdout",
          "text": [
            "MHQTLJRLB\n"
          ]
        }
      ],
      "source": [
        "list_of_list = [[] for i in range(9)]\n",
        "with open('day_5_input.txt', 'r', newline='\\n') as my_file:\n",
        "  for line in my_file:\n",
        "    while \"move\" not in line:  \n",
        "      line = line.strip('\\n')\n",
        "      line=line.replace(\"[\",\"\")\n",
        "      line=line.replace(\"]\",\"\")\n",
        "      line=line.replace(\"    \",\"*\")\n",
        "      line=line.replace(\" \",\"\")            \n",
        "      for index, i in enumerate(line):\n",
        "        if i.isnumeric()==False and i !=\"*\":\n",
        "          list_of_list[index].insert(0,i)\n",
        "      break\n",
        "    if \"move\" in line:\n",
        "      move = line.strip('\\n').split('from ')\n",
        "      num_list = int(move[0].replace(\"move \", \"\"))\n",
        "      line2 = move[1].replace(\" \", \"\").split('to')\n",
        "      from_list = int(line2[0])-1 \n",
        "      to_list = int(line2[1])-1\n",
        "      sublist = list_of_list[from_list][len(list_of_list[from_list])-num_list:] # Create a sublist\n",
        "      list_of_list[from_list] = list_of_list[from_list][0:len(list_of_list[from_list])-num_list] # Update the from list\n",
        "      list_of_list[to_list].extend(sublist)  # Add sublist to to list\n",
        "end_list = [item[-1] for item in list_of_list]\n",
        "answer = ''\n",
        "for i in end_list:\n",
        "  answer += i\n",
        "print(answer)"
      ]
    }
  ]
}