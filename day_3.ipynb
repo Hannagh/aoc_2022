{
  "nbformat": 4,
  "nbformat_minor": 0,
  "metadata": {
    "colab": {
      "provenance": [],
      "authorship_tag": "ABX9TyNnsbJM+jlU4xnJ6VCXM3HD",
      "include_colab_link": true
    },
    "kernelspec": {
      "name": "python3",
      "display_name": "Python 3"
    },
    "language_info": {
      "name": "python"
    }
  },
  "cells": [
    {
      "cell_type": "markdown",
      "metadata": {
        "id": "view-in-github",
        "colab_type": "text"
      },
      "source": [
        "<a href=\"https://colab.research.google.com/github/Hannagh/aoc_2022/blob/main/day_3.ipynb\" target=\"_parent\"><img src=\"https://colab.research.google.com/assets/colab-badge.svg\" alt=\"Open In Colab\"/></a>"
      ]
    },
    {
      "cell_type": "code",
      "execution_count": null,
      "metadata": {
        "colab": {
          "base_uri": "https://localhost:8080/"
        },
        "id": "5J8Hgv4JALqx",
        "outputId": "5a573f05-2051-4ea2-ebec-8cfaaf167008"
      },
      "outputs": [
        {
          "output_type": "stream",
          "name": "stdout",
          "text": [
            "[39, 42, 33, 12, 19, 20, 52, 14, 16, 26, 34, 43, 44, 32, 20, 13, 49, 18, 17, 17, 13, 39, 28, 12, 26, 10, 49, 32, 3, 44, 19, 17, 36, 14, 33, 20, 39, 44, 43, 14, 39, 36, 33, 6, 30, 13, 32, 2, 29, 36, 42, 10, 20, 30, 48, 8, 12, 17, 17, 3, 17, 48, 48, 14, 29, 44, 34, 36, 46, 8, 28, 19, 7, 38, 2, 18, 49, 22, 42, 26, 8, 48, 4, 26, 19, 43, 8, 7, 16, 4, 22, 30, 30, 33, 22, 26, 20, 40, 48, 52]\n",
            "2639\n"
          ]
        }
      ],
      "source": [
        "from more_itertools import locate\n",
        "container = [0] * 53 # Empty list 52 values long\n",
        "priorities = [] # Empty list of priorities\n",
        "with open('input_day_3.txt', 'r') as my_file:\n",
        "  lines = my_file.readlines()\n",
        "  for line in lines:\n",
        "    substring = line[0:int((len(line)-1)/2)].rstrip() # Grab first compartment\n",
        "    ascii = [ord(char) for char in substring] # Change it to ASCII numbers, note that list set returns unique values    \n",
        "    changed = [i - 96 if i >= 97 else i - 38 for i in ascii] # Change it so it corresponds to the right number\n",
        "    deduped = list(dict.fromkeys(changed))\n",
        "    for i in deduped:\n",
        "      container[i] += 1\n",
        "    substring2 = line[int((len(line)-1)/2):].rstrip() # Grab second compartment\n",
        "    ascii2 = [ord(char) for char in substring2] # Change it to ASCII numbers, note that list set returns unique values\n",
        "    changed2 = [i - 96 if i >= 97 else i - 38 for i in ascii2] # Change it so it corresponds to the right number\n",
        "    deduped2 = list(dict.fromkeys(changed2))\n",
        "    for i in deduped2:\n",
        "      container[i] += 1\n",
        "    priorities.append(list(locate(container, lambda x: x == 2))[0])\n",
        "    container = [0] * 53 # Reset the container \n",
        "\n",
        "priorities = [] # Reset priorities\n",
        "counter = 1\n",
        "with open('input_day_3.txt', 'r') as my_file:\n",
        "  lines = my_file.readlines()\n",
        "  for line in lines:\n",
        "    stripped = line.rstrip()\n",
        "    ascii = [ord(char) for char in stripped] # Change it to ASCII numbers, note that list set returns unique values    \n",
        "    changed = [i - 96 if i >= 97 else i - 38 for i in ascii] # Change it so it corresponds to the right number\n",
        "    deduped = list(dict.fromkeys(changed)) #  Deduplicate the list\n",
        "    for i in deduped:\n",
        "      container[i] += 1    \n",
        "    if counter % 3 == 0:\n",
        "      priorities.append(list(locate(container, lambda x: x == 3))[0])\n",
        "      container = [0] * 53 # Reset the container \n",
        "    counter += 1 \n",
        "print(priorities)\n",
        "print(sum(priorities))\n",
        "\n"
      ]
    }
  ]
}