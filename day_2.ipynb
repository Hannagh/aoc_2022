{
  "nbformat": 4,
  "nbformat_minor": 0,
  "metadata": {
    "colab": {
      "provenance": [],
      "authorship_tag": "ABX9TyN79c1Rh5DPeNfDRGwLmRBy",
      "include_colab_link": true
    },
    "kernelspec": {
      "name": "python3",
      "display_name": "Python 3"
    },
    "language_info": {
      "name": "python"
    }
  },
  "cells": [
    {
      "cell_type": "markdown",
      "metadata": {
        "id": "view-in-github",
        "colab_type": "text"
      },
      "source": [
        "<a href=\"https://colab.research.google.com/github/Hannagh/aoc_2022/blob/main/day_2.ipynb\" target=\"_parent\"><img src=\"https://colab.research.google.com/assets/colab-badge.svg\" alt=\"Open In Colab\"/></a>"
      ]
    },
    {
      "cell_type": "code",
      "execution_count": null,
      "metadata": {
        "id": "NO3aywi1WoOC",
        "colab": {
          "base_uri": "https://localhost:8080/"
        },
        "outputId": "7c8ef511-7d01-4bef-9220-6f867bd89117"
      },
      "outputs": [
        {
          "output_type": "stream",
          "name": "stdout",
          "text": [
            "12794\n",
            "14979\n"
          ]
        }
      ],
      "source": [
        "my_file = open('strategy_guide.txt', 'r')\n",
        "\n",
        "# A - Rock\n",
        "# B - Paper\n",
        "# C - Scissors\n",
        "\n",
        "# X --> Lose\n",
        "# Y --> Draw\n",
        "# Z --> Win\n",
        "\n",
        "my_lines = my_file.readlines()\n",
        "rolling_sum = 0\n",
        "for line in my_lines:\n",
        "  if line[2] == \"X\":\n",
        "    rolling_sum += 1\n",
        "    if line[0] == \"A\":  \n",
        "      rolling_sum += 3\n",
        "    if line[0] == \"C\":\n",
        "      rolling_sum += 6\n",
        "    continue    \n",
        "  if line[2] == \"Y\":\n",
        "    rolling_sum += 2   \n",
        "    if line[0] == \"B\":\n",
        "      rolling_sum += 3         \n",
        "    if line[0] == \"A\": \n",
        "      rolling_sum += 6\n",
        "    continue\n",
        "  if line[2] == \"Z\":\n",
        "    rolling_sum += 3\n",
        "    if line[0] == \"C\":\n",
        "      rolling_sum += 3\n",
        "    if line[0] == \"B\":\n",
        "      rolling_sum += 6\n",
        "    continue\n",
        "print(rolling_sum)\n",
        "\n",
        "# X --> Lose\n",
        "# Y --> Draw\n",
        "# Z --> Win\n",
        "rolling_sum = 0\n",
        "for line in my_lines:\n",
        "  if line[2] == \"X\": # Lose\n",
        "    rolling_sum += 0\n",
        "    if line[0] == \"A\": # Lose against rock, play scissors  \n",
        "      rolling_sum += 3    \n",
        "    if line[0] == \"B\": # Lose against paper, play rock\n",
        "      rolling_sum += 1\n",
        "    if line[0] == \"C\": # Lose against scissors, play paper \n",
        "      rolling_sum += 2\n",
        "    continue    \n",
        "  if line[2] == \"Y\": # Draw\n",
        "    rolling_sum += 3   \n",
        "    if line[0] == \"A\": # Draw against rock, play rock\n",
        "      rolling_sum += 1         \n",
        "    if line[0] == \"B\": # Draw against paper, play paper \n",
        "      rolling_sum += 2\n",
        "    if line[0] == \"C\": # Draw against scissors, play scissors\n",
        "      rolling_sum += 3\n",
        "    continue\n",
        "  if line[2] == \"Z\": # Win \n",
        "    rolling_sum += 6\n",
        "    if line[0] == \"A\": # Win against rock, play paper\n",
        "      rolling_sum += 2\n",
        "    if line[0] == \"B\": # Win against paper, play scissors\n",
        "      rolling_sum += 3\n",
        "    if line[0] == \"C\": # Win against scissors, play rock\n",
        "      rolling_sum += 1\n",
        "    continue\n",
        "print(rolling_sum)"
      ]
    }
  ]
}